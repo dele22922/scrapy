{
  "nbformat": 4,
  "nbformat_minor": 0,
  "metadata": {
    "colab": {
      "provenance": [],
      "include_colab_link": true
    },
    "kernelspec": {
      "name": "python3",
      "display_name": "Python 3"
    },
    "language_info": {
      "name": "python"
    }
  },
  "cells": [
    {
      "cell_type": "markdown",
      "metadata": {
        "id": "view-in-github",
        "colab_type": "text"
      },
      "source": [
        "<a href=\"https://colab.research.google.com/github/dele22922/scrapy/blob/main/BuenoYMalo.ipynb\" target=\"_parent\"><img src=\"https://colab.research.google.com/assets/colab-badge.svg\" alt=\"Open In Colab\"/></a>"
      ]
    },
    {
      "cell_type": "markdown",
      "source": [
        "## Ejemplo de la forma que NO debe hacerse"
      ],
      "metadata": {
        "id": "FQvzlUZL-862"
      }
    },
    {
      "cell_type": "code",
      "execution_count": 1,
      "metadata": {
        "colab": {
          "base_uri": "https://localhost:8080/"
        },
        "id": "n9dLMCGiz8F5",
        "outputId": "fc74ae34-50a1-4ceb-bd70-3e4a6d916f73"
      },
      "outputs": [
        {
          "output_type": "stream",
          "name": "stdout",
          "text": [
            "Collecting pulp\n",
            "  Downloading PuLP-2.7.0-py3-none-any.whl (14.3 MB)\n",
            "\u001b[?25l     \u001b[90m━━━━━━━━━━━━━━━━━━━━━━━━━━━━━━━━━━━━━━━━\u001b[0m \u001b[32m0.0/14.3 MB\u001b[0m \u001b[31m?\u001b[0m eta \u001b[36m-:--:--\u001b[0m\r\u001b[2K     \u001b[91m╸\u001b[0m\u001b[90m━━━━━━━━━━━━━━━━━━━━━━━━━━━━━━━━━━━━━━━\u001b[0m \u001b[32m0.3/14.3 MB\u001b[0m \u001b[31m8.0 MB/s\u001b[0m eta \u001b[36m0:00:02\u001b[0m\r\u001b[2K     \u001b[91m━━━━━━\u001b[0m\u001b[91m╸\u001b[0m\u001b[90m━━━━━━━━━━━━━━━━━━━━━━━━━━━━━━━━━\u001b[0m \u001b[32m2.5/14.3 MB\u001b[0m \u001b[31m36.2 MB/s\u001b[0m eta \u001b[36m0:00:01\u001b[0m\r\u001b[2K     \u001b[91m━━━━━━━━━━━━━━━━━━━━━━━━━━━\u001b[0m\u001b[90m╺\u001b[0m\u001b[90m━━━━━━━━━━━━\u001b[0m \u001b[32m9.8/14.3 MB\u001b[0m \u001b[31m94.3 MB/s\u001b[0m eta \u001b[36m0:00:01\u001b[0m\r\u001b[2K     \u001b[91m━━━━━━━━━━━━━━━━━━━━━━━━━━━━━━━━━━━━━━\u001b[0m\u001b[91m╸\u001b[0m \u001b[32m14.2/14.3 MB\u001b[0m \u001b[31m209.5 MB/s\u001b[0m eta \u001b[36m0:00:01\u001b[0m\r\u001b[2K     \u001b[90m━━━━━━━━━━━━━━━━━━━━━━━━━━━━━━━━━━━━━━━\u001b[0m \u001b[32m14.3/14.3 MB\u001b[0m \u001b[31m111.1 MB/s\u001b[0m eta \u001b[36m0:00:00\u001b[0m\n",
            "\u001b[?25hInstalling collected packages: pulp\n",
            "Successfully installed pulp-2.7.0\n"
          ]
        }
      ],
      "source": [
        "!pip install pulp"
      ]
    },
    {
      "cell_type": "code",
      "source": [
        "from pulp import *"
      ],
      "metadata": {
        "id": "Qwwrf2gFz-1B"
      },
      "execution_count": 2,
      "outputs": []
    },
    {
      "cell_type": "code",
      "source": [
        "malo = LpProblem(\"MalEjemplo\", LpMaximize)"
      ],
      "metadata": {
        "id": "gLACys-X0EjP"
      },
      "execution_count": 3,
      "outputs": []
    },
    {
      "cell_type": "code",
      "source": [
        "x1 = LpVariable(\"Variable1\", lowBound=0, upBound=None, cat=\"Continuous\")\n",
        "x2 = LpVariable(\"Variable2\", lowBound=0, upBound=None, cat=\"Continuous\")"
      ],
      "metadata": {
        "id": "6011Okp40PUf"
      },
      "execution_count": 4,
      "outputs": []
    },
    {
      "cell_type": "code",
      "source": [
        "malo += 3*x1 + 4*x2  ## Función objetivo"
      ],
      "metadata": {
        "id": "SCMxiOZI0aJH"
      },
      "execution_count": 5,
      "outputs": []
    },
    {
      "cell_type": "code",
      "source": [
        "malo += x1 + x2 <= 1600\n",
        "malo += x1 >= 500\n",
        "malo += 0.24*x1 + 0.48*x2 <= 480"
      ],
      "metadata": {
        "id": "PP1BBYgX1Edo"
      },
      "execution_count": 6,
      "outputs": []
    },
    {
      "cell_type": "code",
      "source": [
        "malo"
      ],
      "metadata": {
        "colab": {
          "base_uri": "https://localhost:8080/"
        },
        "id": "kfCj6q6J1oY9",
        "outputId": "752d4c3b-c49e-4d9e-a0c1-57679c8d8f49"
      },
      "execution_count": 7,
      "outputs": [
        {
          "output_type": "execute_result",
          "data": {
            "text/plain": [
              "MalEjemplo:\n",
              "MAXIMIZE\n",
              "3*Variable1 + 4*Variable2 + 0\n",
              "SUBJECT TO\n",
              "_C1: Variable1 + Variable2 <= 1600\n",
              "\n",
              "_C2: Variable1 >= 500\n",
              "\n",
              "_C3: 0.24 Variable1 + 0.48 Variable2 <= 480\n",
              "\n",
              "VARIABLES\n",
              "Variable1 Continuous\n",
              "Variable2 Continuous"
            ]
          },
          "metadata": {},
          "execution_count": 7
        }
      ]
    },
    {
      "cell_type": "code",
      "source": [
        "malo.solve()"
      ],
      "metadata": {
        "colab": {
          "base_uri": "https://localhost:8080/"
        },
        "id": "ho8ZxyRT1rxd",
        "outputId": "129d22e9-ce05-4893-c451-b90343ad1c29"
      },
      "execution_count": 8,
      "outputs": [
        {
          "output_type": "execute_result",
          "data": {
            "text/plain": [
              "1"
            ]
          },
          "metadata": {},
          "execution_count": 8
        }
      ]
    },
    {
      "cell_type": "code",
      "source": [
        "malo.objective.value()"
      ],
      "metadata": {
        "colab": {
          "base_uri": "https://localhost:8080/"
        },
        "id": "MLWq_nUn2LkF",
        "outputId": "c7bfdc81-b27d-4d85-8ec9-8c8025152d5f"
      },
      "execution_count": 9,
      "outputs": [
        {
          "output_type": "execute_result",
          "data": {
            "text/plain": [
              "5200.0"
            ]
          },
          "metadata": {},
          "execution_count": 9
        }
      ]
    },
    {
      "cell_type": "code",
      "source": [
        "x1.value()"
      ],
      "metadata": {
        "colab": {
          "base_uri": "https://localhost:8080/"
        },
        "id": "hHXg5xhg2PZP",
        "outputId": "3ab87418-9c99-47d6-d8fe-33df144c8e48"
      },
      "execution_count": 10,
      "outputs": [
        {
          "output_type": "execute_result",
          "data": {
            "text/plain": [
              "1200.0"
            ]
          },
          "metadata": {},
          "execution_count": 10
        }
      ]
    },
    {
      "cell_type": "code",
      "source": [
        "x2.value()"
      ],
      "metadata": {
        "colab": {
          "base_uri": "https://localhost:8080/"
        },
        "id": "JFADB0oj2SZY",
        "outputId": "723c7d9d-9c9d-490f-b089-03ade2f27b49"
      },
      "execution_count": 11,
      "outputs": [
        {
          "output_type": "execute_result",
          "data": {
            "text/plain": [
              "400.0"
            ]
          },
          "metadata": {},
          "execution_count": 11
        }
      ]
    },
    {
      "cell_type": "markdown",
      "source": [
        "## Forma correcta de modelar"
      ],
      "metadata": {
        "id": "KwAUNdDi_LvC"
      }
    },
    {
      "cell_type": "code",
      "source": [
        "import numpy as np"
      ],
      "metadata": {
        "id": "OmLyWe9s2T-G"
      },
      "execution_count": 12,
      "outputs": []
    },
    {
      "cell_type": "code",
      "source": [
        "coef =  np.array([3,4])\n",
        "mat =  np.array([[1,1],[-1,0],[0.24,0.48]])\n",
        "ld = np.array([1600,-500,480])"
      ],
      "metadata": {
        "id": "7vhcChNc2pp7"
      },
      "execution_count": 13,
      "outputs": []
    },
    {
      "cell_type": "code",
      "source": [
        "numvar =  len(coef)\n",
        "numres =  mat.shape[0]"
      ],
      "metadata": {
        "id": "Y34o32DB5HfQ"
      },
      "execution_count": 19,
      "outputs": []
    },
    {
      "cell_type": "code",
      "source": [
        "bueno = LpProblem(\"BuenEjemplo\", LpMaximize)"
      ],
      "metadata": {
        "id": "DcFcrd985hMr"
      },
      "execution_count": 20,
      "outputs": []
    },
    {
      "cell_type": "code",
      "source": [
        "X =  LpVariable.matrix(\"Variable\",range(numvar),lowBound=0,upBound=None,cat=\"Continuous\")"
      ],
      "metadata": {
        "id": "I048wkFD52dw"
      },
      "execution_count": 21,
      "outputs": []
    },
    {
      "cell_type": "code",
      "source": [
        "X"
      ],
      "metadata": {
        "colab": {
          "base_uri": "https://localhost:8080/"
        },
        "id": "l0XVReq46JLP",
        "outputId": "953a8f42-d522-40e8-e5d9-9beaa594d772"
      },
      "execution_count": 22,
      "outputs": [
        {
          "output_type": "execute_result",
          "data": {
            "text/plain": [
              "[Variable_0, Variable_1]"
            ]
          },
          "metadata": {},
          "execution_count": 22
        }
      ]
    },
    {
      "cell_type": "code",
      "source": [
        "sum([x for x in range(100) ])"
      ],
      "metadata": {
        "colab": {
          "base_uri": "https://localhost:8080/"
        },
        "id": "JdS_JIVo5Lgl",
        "outputId": "93098b4c-8230-497e-8ac0-5bb121461dbc"
      },
      "execution_count": 17,
      "outputs": [
        {
          "output_type": "execute_result",
          "data": {
            "text/plain": [
              "4950"
            ]
          },
          "metadata": {},
          "execution_count": 17
        }
      ]
    },
    {
      "cell_type": "code",
      "source": [
        "bueno += lpSum([coef[i]*X[i] for i in range(numvar)]) ## Funcion objetivo"
      ],
      "metadata": {
        "id": "ISdob9YQ6MPo"
      },
      "execution_count": 23,
      "outputs": []
    },
    {
      "cell_type": "code",
      "source": [
        "for i in range(numres):\n",
        "    bueno +=  lpSum([mat[i,j]*X[j] for j in range(numvar)]) <= ld[i]"
      ],
      "metadata": {
        "id": "Vv0bjk607Gx9"
      },
      "execution_count": 24,
      "outputs": []
    },
    {
      "cell_type": "code",
      "source": [
        "bueno"
      ],
      "metadata": {
        "colab": {
          "base_uri": "https://localhost:8080/"
        },
        "id": "L5TjJejh7W87",
        "outputId": "a9d513e1-76ed-4c46-a0f1-9bd5d3d28629"
      },
      "execution_count": 25,
      "outputs": [
        {
          "output_type": "execute_result",
          "data": {
            "text/plain": [
              "BuenEjemplo:\n",
              "MAXIMIZE\n",
              "3*Variable_0 + 4*Variable_1 + 0\n",
              "SUBJECT TO\n",
              "_C1: Variable_0 + Variable_1 <= 1600\n",
              "\n",
              "_C2: - Variable_0 <= -500\n",
              "\n",
              "_C3: 0.24 Variable_0 + 0.48 Variable_1 <= 480\n",
              "\n",
              "VARIABLES\n",
              "Variable_0 Continuous\n",
              "Variable_1 Continuous"
            ]
          },
          "metadata": {},
          "execution_count": 25
        }
      ]
    },
    {
      "cell_type": "code",
      "source": [
        "bueno.solve()"
      ],
      "metadata": {
        "colab": {
          "base_uri": "https://localhost:8080/"
        },
        "id": "oKgZrJOQ7hEh",
        "outputId": "5bdd1e73-5504-4dc4-dc44-5121d70d7209"
      },
      "execution_count": 26,
      "outputs": [
        {
          "output_type": "execute_result",
          "data": {
            "text/plain": [
              "1"
            ]
          },
          "metadata": {},
          "execution_count": 26
        }
      ]
    },
    {
      "cell_type": "code",
      "source": [
        "bueno.objective.value()"
      ],
      "metadata": {
        "colab": {
          "base_uri": "https://localhost:8080/"
        },
        "id": "VGfyuRNI7qdR",
        "outputId": "c2745120-4688-4bb2-d90e-587922b7627a"
      },
      "execution_count": 27,
      "outputs": [
        {
          "output_type": "execute_result",
          "data": {
            "text/plain": [
              "5200.0"
            ]
          },
          "metadata": {},
          "execution_count": 27
        }
      ]
    },
    {
      "cell_type": "code",
      "source": [
        "for x in bueno.variables():\n",
        "    print(x.name, x.varValue)"
      ],
      "metadata": {
        "colab": {
          "base_uri": "https://localhost:8080/"
        },
        "id": "i24Fa-JJ7vhZ",
        "outputId": "55a2e52f-69f6-46ed-fc95-224ce58af9f0"
      },
      "execution_count": 28,
      "outputs": [
        {
          "output_type": "stream",
          "name": "stdout",
          "text": [
            "Variable_0 1200.0\n",
            "Variable_1 400.0\n"
          ]
        }
      ]
    }
  ]
}